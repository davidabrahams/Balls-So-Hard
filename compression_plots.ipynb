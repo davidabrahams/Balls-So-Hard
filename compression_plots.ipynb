{
 "cells": [
  {
   "cell_type": "code",
   "execution_count": 5,
   "metadata": {
    "collapsed": false
   },
   "outputs": [
    {
     "name": "stdout",
     "output_type": "stream",
     "text": [
      "/home/david/Repos/Balls-So-Hard/ball-data/ftir/rubber\n"
     ]
    }
   ],
   "source": [
    "import os\n",
    "from os.path import join\n",
    "dir_path = os.path.dirname(os.path.realpath('__file__'))\n",
    "ftir_dir = join(dir_path, 'ball-data', 'ftir')\n",
    "felt_dir = join(ftir_dir, 'felt')\n",
    "rubber_dir = join(ftir_dir, 'rubber')\n"
   ]
  },
  {
   "cell_type": "code",
   "execution_count": null,
   "metadata": {
    "collapsed": true
   },
   "outputs": [],
   "source": [
    "for line in open(file_path, 'r'):\n",
    "    if word in line:\n",
    "        print line"
   ]
  }
 ],
 "metadata": {
  "kernelspec": {
   "display_name": "Python 2",
   "language": "python",
   "name": "python2"
  },
  "language_info": {
   "codemirror_mode": {
    "name": "ipython",
    "version": 2
   },
   "file_extension": ".py",
   "mimetype": "text/x-python",
   "name": "python",
   "nbconvert_exporter": "python",
   "pygments_lexer": "ipython2",
   "version": "2.7.12"
  }
 },
 "nbformat": 4,
 "nbformat_minor": 1
}
